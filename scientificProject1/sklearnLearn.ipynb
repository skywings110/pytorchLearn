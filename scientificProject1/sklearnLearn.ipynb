{
 "cells": [
  {
   "cell_type": "code",
   "id": "initial_id",
   "metadata": {
    "collapsed": true,
    "ExecuteTime": {
     "end_time": "2024-12-06T00:11:38.571779Z",
     "start_time": "2024-12-06T00:11:37.558045Z"
    }
   },
   "source": [
    "from mypyc.primitives.registry import load_address_op\n",
    "from sklearn import tree\n",
    "from sklearn.datasets import load_wine\n",
    "from sklearn.model_selection import train_test_split\n",
    "wine = load_wine()"
   ],
   "outputs": [],
   "execution_count": 2
  },
  {
   "metadata": {
    "ExecuteTime": {
     "end_time": "2024-12-06T00:11:39.037259Z",
     "start_time": "2024-12-06T00:11:38.584788Z"
    }
   },
   "cell_type": "code",
   "source": [
    "import pandas as pd\n",
    "pd.concat([pd.DataFrame(load_wine().data),pd.DataFrame(load_wine().target)],axis=1)"
   ],
   "id": "b8944473829c2d16",
   "outputs": [
    {
     "data": {
      "text/plain": [
       "        0     1     2     3      4     5     6     7     8      9     10  \\\n",
       "0    14.23  1.71  2.43  15.6  127.0  2.80  3.06  0.28  2.29   5.64  1.04   \n",
       "1    13.20  1.78  2.14  11.2  100.0  2.65  2.76  0.26  1.28   4.38  1.05   \n",
       "2    13.16  2.36  2.67  18.6  101.0  2.80  3.24  0.30  2.81   5.68  1.03   \n",
       "3    14.37  1.95  2.50  16.8  113.0  3.85  3.49  0.24  2.18   7.80  0.86   \n",
       "4    13.24  2.59  2.87  21.0  118.0  2.80  2.69  0.39  1.82   4.32  1.04   \n",
       "..     ...   ...   ...   ...    ...   ...   ...   ...   ...    ...   ...   \n",
       "173  13.71  5.65  2.45  20.5   95.0  1.68  0.61  0.52  1.06   7.70  0.64   \n",
       "174  13.40  3.91  2.48  23.0  102.0  1.80  0.75  0.43  1.41   7.30  0.70   \n",
       "175  13.27  4.28  2.26  20.0  120.0  1.59  0.69  0.43  1.35  10.20  0.59   \n",
       "176  13.17  2.59  2.37  20.0  120.0  1.65  0.68  0.53  1.46   9.30  0.60   \n",
       "177  14.13  4.10  2.74  24.5   96.0  2.05  0.76  0.56  1.35   9.20  0.61   \n",
       "\n",
       "       11      12  0   \n",
       "0    3.92  1065.0   0  \n",
       "1    3.40  1050.0   0  \n",
       "2    3.17  1185.0   0  \n",
       "3    3.45  1480.0   0  \n",
       "4    2.93   735.0   0  \n",
       "..    ...     ...  ..  \n",
       "173  1.74   740.0   2  \n",
       "174  1.56   750.0   2  \n",
       "175  1.56   835.0   2  \n",
       "176  1.62   840.0   2  \n",
       "177  1.60   560.0   2  \n",
       "\n",
       "[178 rows x 14 columns]"
      ],
      "text/html": [
       "<div>\n",
       "<style scoped>\n",
       "    .dataframe tbody tr th:only-of-type {\n",
       "        vertical-align: middle;\n",
       "    }\n",
       "\n",
       "    .dataframe tbody tr th {\n",
       "        vertical-align: top;\n",
       "    }\n",
       "\n",
       "    .dataframe thead th {\n",
       "        text-align: right;\n",
       "    }\n",
       "</style>\n",
       "<table border=\"1\" class=\"dataframe\">\n",
       "  <thead>\n",
       "    <tr style=\"text-align: right;\">\n",
       "      <th></th>\n",
       "      <th>0</th>\n",
       "      <th>1</th>\n",
       "      <th>2</th>\n",
       "      <th>3</th>\n",
       "      <th>4</th>\n",
       "      <th>5</th>\n",
       "      <th>6</th>\n",
       "      <th>7</th>\n",
       "      <th>8</th>\n",
       "      <th>9</th>\n",
       "      <th>10</th>\n",
       "      <th>11</th>\n",
       "      <th>12</th>\n",
       "      <th>0</th>\n",
       "    </tr>\n",
       "  </thead>\n",
       "  <tbody>\n",
       "    <tr>\n",
       "      <th>0</th>\n",
       "      <td>14.23</td>\n",
       "      <td>1.71</td>\n",
       "      <td>2.43</td>\n",
       "      <td>15.6</td>\n",
       "      <td>127.0</td>\n",
       "      <td>2.80</td>\n",
       "      <td>3.06</td>\n",
       "      <td>0.28</td>\n",
       "      <td>2.29</td>\n",
       "      <td>5.64</td>\n",
       "      <td>1.04</td>\n",
       "      <td>3.92</td>\n",
       "      <td>1065.0</td>\n",
       "      <td>0</td>\n",
       "    </tr>\n",
       "    <tr>\n",
       "      <th>1</th>\n",
       "      <td>13.20</td>\n",
       "      <td>1.78</td>\n",
       "      <td>2.14</td>\n",
       "      <td>11.2</td>\n",
       "      <td>100.0</td>\n",
       "      <td>2.65</td>\n",
       "      <td>2.76</td>\n",
       "      <td>0.26</td>\n",
       "      <td>1.28</td>\n",
       "      <td>4.38</td>\n",
       "      <td>1.05</td>\n",
       "      <td>3.40</td>\n",
       "      <td>1050.0</td>\n",
       "      <td>0</td>\n",
       "    </tr>\n",
       "    <tr>\n",
       "      <th>2</th>\n",
       "      <td>13.16</td>\n",
       "      <td>2.36</td>\n",
       "      <td>2.67</td>\n",
       "      <td>18.6</td>\n",
       "      <td>101.0</td>\n",
       "      <td>2.80</td>\n",
       "      <td>3.24</td>\n",
       "      <td>0.30</td>\n",
       "      <td>2.81</td>\n",
       "      <td>5.68</td>\n",
       "      <td>1.03</td>\n",
       "      <td>3.17</td>\n",
       "      <td>1185.0</td>\n",
       "      <td>0</td>\n",
       "    </tr>\n",
       "    <tr>\n",
       "      <th>3</th>\n",
       "      <td>14.37</td>\n",
       "      <td>1.95</td>\n",
       "      <td>2.50</td>\n",
       "      <td>16.8</td>\n",
       "      <td>113.0</td>\n",
       "      <td>3.85</td>\n",
       "      <td>3.49</td>\n",
       "      <td>0.24</td>\n",
       "      <td>2.18</td>\n",
       "      <td>7.80</td>\n",
       "      <td>0.86</td>\n",
       "      <td>3.45</td>\n",
       "      <td>1480.0</td>\n",
       "      <td>0</td>\n",
       "    </tr>\n",
       "    <tr>\n",
       "      <th>4</th>\n",
       "      <td>13.24</td>\n",
       "      <td>2.59</td>\n",
       "      <td>2.87</td>\n",
       "      <td>21.0</td>\n",
       "      <td>118.0</td>\n",
       "      <td>2.80</td>\n",
       "      <td>2.69</td>\n",
       "      <td>0.39</td>\n",
       "      <td>1.82</td>\n",
       "      <td>4.32</td>\n",
       "      <td>1.04</td>\n",
       "      <td>2.93</td>\n",
       "      <td>735.0</td>\n",
       "      <td>0</td>\n",
       "    </tr>\n",
       "    <tr>\n",
       "      <th>...</th>\n",
       "      <td>...</td>\n",
       "      <td>...</td>\n",
       "      <td>...</td>\n",
       "      <td>...</td>\n",
       "      <td>...</td>\n",
       "      <td>...</td>\n",
       "      <td>...</td>\n",
       "      <td>...</td>\n",
       "      <td>...</td>\n",
       "      <td>...</td>\n",
       "      <td>...</td>\n",
       "      <td>...</td>\n",
       "      <td>...</td>\n",
       "      <td>...</td>\n",
       "    </tr>\n",
       "    <tr>\n",
       "      <th>173</th>\n",
       "      <td>13.71</td>\n",
       "      <td>5.65</td>\n",
       "      <td>2.45</td>\n",
       "      <td>20.5</td>\n",
       "      <td>95.0</td>\n",
       "      <td>1.68</td>\n",
       "      <td>0.61</td>\n",
       "      <td>0.52</td>\n",
       "      <td>1.06</td>\n",
       "      <td>7.70</td>\n",
       "      <td>0.64</td>\n",
       "      <td>1.74</td>\n",
       "      <td>740.0</td>\n",
       "      <td>2</td>\n",
       "    </tr>\n",
       "    <tr>\n",
       "      <th>174</th>\n",
       "      <td>13.40</td>\n",
       "      <td>3.91</td>\n",
       "      <td>2.48</td>\n",
       "      <td>23.0</td>\n",
       "      <td>102.0</td>\n",
       "      <td>1.80</td>\n",
       "      <td>0.75</td>\n",
       "      <td>0.43</td>\n",
       "      <td>1.41</td>\n",
       "      <td>7.30</td>\n",
       "      <td>0.70</td>\n",
       "      <td>1.56</td>\n",
       "      <td>750.0</td>\n",
       "      <td>2</td>\n",
       "    </tr>\n",
       "    <tr>\n",
       "      <th>175</th>\n",
       "      <td>13.27</td>\n",
       "      <td>4.28</td>\n",
       "      <td>2.26</td>\n",
       "      <td>20.0</td>\n",
       "      <td>120.0</td>\n",
       "      <td>1.59</td>\n",
       "      <td>0.69</td>\n",
       "      <td>0.43</td>\n",
       "      <td>1.35</td>\n",
       "      <td>10.20</td>\n",
       "      <td>0.59</td>\n",
       "      <td>1.56</td>\n",
       "      <td>835.0</td>\n",
       "      <td>2</td>\n",
       "    </tr>\n",
       "    <tr>\n",
       "      <th>176</th>\n",
       "      <td>13.17</td>\n",
       "      <td>2.59</td>\n",
       "      <td>2.37</td>\n",
       "      <td>20.0</td>\n",
       "      <td>120.0</td>\n",
       "      <td>1.65</td>\n",
       "      <td>0.68</td>\n",
       "      <td>0.53</td>\n",
       "      <td>1.46</td>\n",
       "      <td>9.30</td>\n",
       "      <td>0.60</td>\n",
       "      <td>1.62</td>\n",
       "      <td>840.0</td>\n",
       "      <td>2</td>\n",
       "    </tr>\n",
       "    <tr>\n",
       "      <th>177</th>\n",
       "      <td>14.13</td>\n",
       "      <td>4.10</td>\n",
       "      <td>2.74</td>\n",
       "      <td>24.5</td>\n",
       "      <td>96.0</td>\n",
       "      <td>2.05</td>\n",
       "      <td>0.76</td>\n",
       "      <td>0.56</td>\n",
       "      <td>1.35</td>\n",
       "      <td>9.20</td>\n",
       "      <td>0.61</td>\n",
       "      <td>1.60</td>\n",
       "      <td>560.0</td>\n",
       "      <td>2</td>\n",
       "    </tr>\n",
       "  </tbody>\n",
       "</table>\n",
       "<p>178 rows × 14 columns</p>\n",
       "</div>"
      ]
     },
     "execution_count": 3,
     "metadata": {},
     "output_type": "execute_result"
    }
   ],
   "execution_count": 3
  },
  {
   "metadata": {
    "ExecuteTime": {
     "end_time": "2024-12-06T00:11:39.065985Z",
     "start_time": "2024-12-06T00:11:39.061942Z"
    }
   },
   "cell_type": "code",
   "source": "Xtrain, Xtest, Ytrain, Ytest = train_test_split(wine.data, wine.target, test_size=0.3)",
   "id": "a5d21310dd781440",
   "outputs": [],
   "execution_count": 4
  },
  {
   "metadata": {
    "ExecuteTime": {
     "end_time": "2024-12-06T00:11:39.095913Z",
     "start_time": "2024-12-06T00:11:39.091510Z"
    }
   },
   "cell_type": "code",
   "source": "Xtrain.shape",
   "id": "3f52aa8813b63d3d",
   "outputs": [
    {
     "data": {
      "text/plain": [
       "(124, 13)"
      ]
     },
     "execution_count": 5,
     "metadata": {},
     "output_type": "execute_result"
    }
   ],
   "execution_count": 5
  },
  {
   "metadata": {
    "ExecuteTime": {
     "end_time": "2024-12-06T00:11:39.171675Z",
     "start_time": "2024-12-06T00:11:39.168433Z"
    }
   },
   "cell_type": "code",
   "source": "Xtest.shape",
   "id": "4cb665a048ee991a",
   "outputs": [
    {
     "data": {
      "text/plain": [
       "(54, 13)"
      ]
     },
     "execution_count": 6,
     "metadata": {},
     "output_type": "execute_result"
    }
   ],
   "execution_count": 6
  },
  {
   "metadata": {
    "ExecuteTime": {
     "end_time": "2024-12-06T00:11:39.365692Z",
     "start_time": "2024-12-06T00:11:39.354432Z"
    }
   },
   "cell_type": "code",
   "source": [
    "clf = tree.DecisionTreeClassifier(criterion='entropy'\n",
    "                                  # 控制随机性\n",
    "                                  ,random_state=0 # 随机模式， 默认为None，如果确定一个数就会一直长同一棵树让树稳定下来\n",
    "                                  ,splitter='random' # 分枝方向是随机还是最优\n",
    "                                  \n",
    "                                  # 控制剪枝方向，防止过拟合\n",
    "                                  # , max_depth=10 限制数的最大深度\n",
    "                                  # ， min_sample_leaf 一个节点分枝后每个子节点必须包含的样本， 从5开始试，等于1同城是最佳选择\n",
    "                                  # ， min_sample_split 每个节点必须至少包含n训练样本才能分枝\n",
    "                                  # , max_features限制分枝时考虑的特征个数，超过特征个数被舍弃，不是降维的好方法，建议使用PCA邓\n",
    "                                  # , min_impurity_decrease限制信息增益，信息增益小于设定数值的分枝不会发生\n",
    "                                  \n",
    "                                  # 目标权重调整\n",
    "                                  # , class_weight 对于一组数据中，一种样本显著多余另一种，少的可能会被淹没，所以有权重选择\n",
    "                                  # ， min_weight_fraction_leaf \n",
    "                                  \n",
    "                                  ,)\n",
    "\n",
    "# 重要属性和接口\n",
    "# fit和score都要用的，但输入矩阵必须是二维矩阵，如是一维矩阵，使用shape(-1, 1)曾伟\n",
    "clf = clf.fit(Xtrain, Ytrain)\n",
    "score = clf.score(Xtest, Ytest)\n",
    "score"
   ],
   "id": "6d4718f66d17371b",
   "outputs": [
    {
     "data": {
      "text/plain": [
       "0.8888888888888888"
      ]
     },
     "execution_count": 7,
     "metadata": {},
     "output_type": "execute_result"
    }
   ],
   "execution_count": 7
  },
  {
   "metadata": {
    "ExecuteTime": {
     "end_time": "2024-12-06T00:11:40.312654Z",
     "start_time": "2024-12-06T00:11:40.132644Z"
    }
   },
   "cell_type": "code",
   "source": [
    "import graphviz\n",
    "dot_data = tree.export_graphviz(clf,feature_names=wine.feature_names,\n",
    "                                class_names=[\"琴酒\", \"雪莉\", \"贝尔摩德\"],\n",
    "                                filled=True, # filled 填充颜色 \n",
    "                                rounded=True, # 圆角\n",
    "                                )\n",
    "graph = graphviz.Source(dot_data)\n",
    "graph"
   ],
   "id": "3ec058020ca27c86",
   "outputs": [
    {
     "data": {
      "image/svg+xml": "<?xml version=\"1.0\" encoding=\"UTF-8\" standalone=\"no\"?>\n<!DOCTYPE svg PUBLIC \"-//W3C//DTD SVG 1.1//EN\"\n \"http://www.w3.org/Graphics/SVG/1.1/DTD/svg11.dtd\">\n<!-- Generated by graphviz version 2.50.0 (0)\n -->\n<!-- Title: Tree Pages: 1 -->\n<svg width=\"1140pt\" height=\"1147pt\"\n viewBox=\"0.00 0.00 1140.00 1147.00\" xmlns=\"http://www.w3.org/2000/svg\" xmlns:xlink=\"http://www.w3.org/1999/xlink\">\n<g id=\"graph0\" class=\"graph\" transform=\"scale(1 1) rotate(0) translate(4 1143)\">\n<title>Tree</title>\n<polygon fill=\"white\" stroke=\"transparent\" points=\"-4,4 -4,-1143 1136,-1143 1136,4 -4,4\"/>\n<!-- 0 -->\n<g id=\"node1\" class=\"node\">\n<title>0</title>\n<path fill=\"#f5fef9\" stroke=\"black\" d=\"M605.5,-1139C605.5,-1139 494.5,-1139 494.5,-1139 488.5,-1139 482.5,-1133 482.5,-1127 482.5,-1127 482.5,-1068 482.5,-1068 482.5,-1062 488.5,-1056 494.5,-1056 494.5,-1056 605.5,-1056 605.5,-1056 611.5,-1056 617.5,-1062 617.5,-1068 617.5,-1068 617.5,-1127 617.5,-1127 617.5,-1133 611.5,-1139 605.5,-1139\"/>\n<text text-anchor=\"middle\" x=\"550\" y=\"-1123.8\" font-family=\"Helvetica,sans-Serif\" font-size=\"14.00\">flavanoids &lt;= 1.401</text>\n<text text-anchor=\"middle\" x=\"550\" y=\"-1108.8\" font-family=\"Helvetica,sans-Serif\" font-size=\"14.00\">entropy = 1.565</text>\n<text text-anchor=\"middle\" x=\"550\" y=\"-1093.8\" font-family=\"Helvetica,sans-Serif\" font-size=\"14.00\">samples = 124</text>\n<text text-anchor=\"middle\" x=\"550\" y=\"-1078.8\" font-family=\"Helvetica,sans-Serif\" font-size=\"14.00\">value = [44, 48, 32]</text>\n<text text-anchor=\"middle\" x=\"550\" y=\"-1063.8\" font-family=\"Helvetica,sans-Serif\" font-size=\"14.00\">class = 雪莉</text>\n</g>\n<!-- 1 -->\n<g id=\"node2\" class=\"node\">\n<title>1</title>\n<path fill=\"#a06aec\" stroke=\"black\" d=\"M521,-1020C521,-1020 413,-1020 413,-1020 407,-1020 401,-1014 401,-1008 401,-1008 401,-949 401,-949 401,-943 407,-937 413,-937 413,-937 521,-937 521,-937 527,-937 533,-943 533,-949 533,-949 533,-1008 533,-1008 533,-1014 527,-1020 521,-1020\"/>\n<text text-anchor=\"middle\" x=\"467\" y=\"-1004.8\" font-family=\"Helvetica,sans-Serif\" font-size=\"14.00\">hue &lt;= 0.91</text>\n<text text-anchor=\"middle\" x=\"467\" y=\"-989.8\" font-family=\"Helvetica,sans-Serif\" font-size=\"14.00\">entropy = 0.722</text>\n<text text-anchor=\"middle\" x=\"467\" y=\"-974.8\" font-family=\"Helvetica,sans-Serif\" font-size=\"14.00\">samples = 40</text>\n<text text-anchor=\"middle\" x=\"467\" y=\"-959.8\" font-family=\"Helvetica,sans-Serif\" font-size=\"14.00\">value = [0, 8, 32]</text>\n<text text-anchor=\"middle\" x=\"467\" y=\"-944.8\" font-family=\"Helvetica,sans-Serif\" font-size=\"14.00\">class = 贝尔摩德</text>\n</g>\n<!-- 0&#45;&gt;1 -->\n<g id=\"edge1\" class=\"edge\">\n<title>0&#45;&gt;1</title>\n<path fill=\"none\" stroke=\"black\" d=\"M521.2,-1055.91C514.89,-1047.01 508.15,-1037.51 501.64,-1028.33\"/>\n<polygon fill=\"black\" stroke=\"black\" points=\"504.39,-1026.15 495.75,-1020.02 498.68,-1030.2 504.39,-1026.15\"/>\n<text text-anchor=\"middle\" x=\"491.56\" y=\"-1040.97\" font-family=\"Helvetica,sans-Serif\" font-size=\"14.00\">True</text>\n</g>\n<!-- 10 -->\n<g id=\"node11\" class=\"node\">\n<title>10</title>\n<path fill=\"#fdf4ed\" stroke=\"black\" d=\"M732.5,-1020C732.5,-1020 631.5,-1020 631.5,-1020 625.5,-1020 619.5,-1014 619.5,-1008 619.5,-1008 619.5,-949 619.5,-949 619.5,-943 625.5,-937 631.5,-937 631.5,-937 732.5,-937 732.5,-937 738.5,-937 744.5,-943 744.5,-949 744.5,-949 744.5,-1008 744.5,-1008 744.5,-1014 738.5,-1020 732.5,-1020\"/>\n<text text-anchor=\"middle\" x=\"682\" y=\"-1004.8\" font-family=\"Helvetica,sans-Serif\" font-size=\"14.00\">alcohol &lt;= 13.438</text>\n<text text-anchor=\"middle\" x=\"682\" y=\"-989.8\" font-family=\"Helvetica,sans-Serif\" font-size=\"14.00\">entropy = 0.998</text>\n<text text-anchor=\"middle\" x=\"682\" y=\"-974.8\" font-family=\"Helvetica,sans-Serif\" font-size=\"14.00\">samples = 84</text>\n<text text-anchor=\"middle\" x=\"682\" y=\"-959.8\" font-family=\"Helvetica,sans-Serif\" font-size=\"14.00\">value = [44, 40, 0]</text>\n<text text-anchor=\"middle\" x=\"682\" y=\"-944.8\" font-family=\"Helvetica,sans-Serif\" font-size=\"14.00\">class = 琴酒</text>\n</g>\n<!-- 0&#45;&gt;10 -->\n<g id=\"edge10\" class=\"edge\">\n<title>0&#45;&gt;10</title>\n<path fill=\"none\" stroke=\"black\" d=\"M595.8,-1055.91C606.34,-1046.56 617.65,-1036.54 628.49,-1026.93\"/>\n<polygon fill=\"black\" stroke=\"black\" points=\"631.12,-1029.27 636.28,-1020.02 626.48,-1024.03 631.12,-1029.27\"/>\n<text text-anchor=\"middle\" x=\"634.78\" y=\"-1041.28\" font-family=\"Helvetica,sans-Serif\" font-size=\"14.00\">False</text>\n</g>\n<!-- 2 -->\n<g id=\"node3\" class=\"node\">\n<title>2</title>\n<path fill=\"#853fe6\" stroke=\"black\" d=\"M274,-901C274,-901 166,-901 166,-901 160,-901 154,-895 154,-889 154,-889 154,-830 154,-830 154,-824 160,-818 166,-818 166,-818 274,-818 274,-818 280,-818 286,-824 286,-830 286,-830 286,-889 286,-889 286,-895 280,-901 274,-901\"/>\n<text text-anchor=\"middle\" x=\"220\" y=\"-885.8\" font-family=\"Helvetica,sans-Serif\" font-size=\"14.00\">hue &lt;= 0.843</text>\n<text text-anchor=\"middle\" x=\"220\" y=\"-870.8\" font-family=\"Helvetica,sans-Serif\" font-size=\"14.00\">entropy = 0.201</text>\n<text text-anchor=\"middle\" x=\"220\" y=\"-855.8\" font-family=\"Helvetica,sans-Serif\" font-size=\"14.00\">samples = 32</text>\n<text text-anchor=\"middle\" x=\"220\" y=\"-840.8\" font-family=\"Helvetica,sans-Serif\" font-size=\"14.00\">value = [0, 1, 31]</text>\n<text text-anchor=\"middle\" x=\"220\" y=\"-825.8\" font-family=\"Helvetica,sans-Serif\" font-size=\"14.00\">class = 贝尔摩德</text>\n</g>\n<!-- 1&#45;&gt;2 -->\n<g id=\"edge2\" class=\"edge\">\n<title>1&#45;&gt;2</title>\n<path fill=\"none\" stroke=\"black\" d=\"M400.81,-946.15C368.42,-930.8 329.26,-912.26 295.69,-896.35\"/>\n<polygon fill=\"black\" stroke=\"black\" points=\"296.91,-893.06 286.37,-891.94 293.91,-899.38 296.91,-893.06\"/>\n</g>\n<!-- 7 -->\n<g id=\"node8\" class=\"node\">\n<title>7</title>\n<path fill=\"#55e993\" stroke=\"black\" d=\"M535.5,-901C535.5,-901 398.5,-901 398.5,-901 392.5,-901 386.5,-895 386.5,-889 386.5,-889 386.5,-830 386.5,-830 386.5,-824 392.5,-818 398.5,-818 398.5,-818 535.5,-818 535.5,-818 541.5,-818 547.5,-824 547.5,-830 547.5,-830 547.5,-889 547.5,-889 547.5,-895 541.5,-901 535.5,-901\"/>\n<text text-anchor=\"middle\" x=\"467\" y=\"-885.8\" font-family=\"Helvetica,sans-Serif\" font-size=\"14.00\">color_intensity &lt;= 4.227</text>\n<text text-anchor=\"middle\" x=\"467\" y=\"-870.8\" font-family=\"Helvetica,sans-Serif\" font-size=\"14.00\">entropy = 0.544</text>\n<text text-anchor=\"middle\" x=\"467\" y=\"-855.8\" font-family=\"Helvetica,sans-Serif\" font-size=\"14.00\">samples = 8</text>\n<text text-anchor=\"middle\" x=\"467\" y=\"-840.8\" font-family=\"Helvetica,sans-Serif\" font-size=\"14.00\">value = [0, 7, 1]</text>\n<text text-anchor=\"middle\" x=\"467\" y=\"-825.8\" font-family=\"Helvetica,sans-Serif\" font-size=\"14.00\">class = 雪莉</text>\n</g>\n<!-- 1&#45;&gt;7 -->\n<g id=\"edge7\" class=\"edge\">\n<title>1&#45;&gt;7</title>\n<path fill=\"none\" stroke=\"black\" d=\"M467,-936.91C467,-928.65 467,-919.86 467,-911.3\"/>\n<polygon fill=\"black\" stroke=\"black\" points=\"470.5,-911.02 467,-901.02 463.5,-911.02 470.5,-911.02\"/>\n</g>\n<!-- 3 -->\n<g id=\"node4\" class=\"node\">\n<title>3</title>\n<path fill=\"#8139e5\" stroke=\"black\" d=\"M120,-774.5C120,-774.5 12,-774.5 12,-774.5 6,-774.5 0,-768.5 0,-762.5 0,-762.5 0,-718.5 0,-718.5 0,-712.5 6,-706.5 12,-706.5 12,-706.5 120,-706.5 120,-706.5 126,-706.5 132,-712.5 132,-718.5 132,-718.5 132,-762.5 132,-762.5 132,-768.5 126,-774.5 120,-774.5\"/>\n<text text-anchor=\"middle\" x=\"66\" y=\"-759.3\" font-family=\"Helvetica,sans-Serif\" font-size=\"14.00\">entropy = 0.0</text>\n<text text-anchor=\"middle\" x=\"66\" y=\"-744.3\" font-family=\"Helvetica,sans-Serif\" font-size=\"14.00\">samples = 29</text>\n<text text-anchor=\"middle\" x=\"66\" y=\"-729.3\" font-family=\"Helvetica,sans-Serif\" font-size=\"14.00\">value = [0, 0, 29]</text>\n<text text-anchor=\"middle\" x=\"66\" y=\"-714.3\" font-family=\"Helvetica,sans-Serif\" font-size=\"14.00\">class = 贝尔摩德</text>\n</g>\n<!-- 2&#45;&gt;3 -->\n<g id=\"edge3\" class=\"edge\">\n<title>2&#45;&gt;3</title>\n<path fill=\"none\" stroke=\"black\" d=\"M166.57,-817.91C150.74,-805.88 133.44,-792.73 117.72,-780.79\"/>\n<polygon fill=\"black\" stroke=\"black\" points=\"119.74,-777.93 109.66,-774.67 115.5,-783.5 119.74,-777.93\"/>\n</g>\n<!-- 4 -->\n<g id=\"node5\" class=\"node\">\n<title>4</title>\n<path fill=\"#c09cf2\" stroke=\"black\" d=\"M277.5,-782C277.5,-782 162.5,-782 162.5,-782 156.5,-782 150.5,-776 150.5,-770 150.5,-770 150.5,-711 150.5,-711 150.5,-705 156.5,-699 162.5,-699 162.5,-699 277.5,-699 277.5,-699 283.5,-699 289.5,-705 289.5,-711 289.5,-711 289.5,-770 289.5,-770 289.5,-776 283.5,-782 277.5,-782\"/>\n<text text-anchor=\"middle\" x=\"220\" y=\"-766.8\" font-family=\"Helvetica,sans-Serif\" font-size=\"14.00\">malic_acid &lt;= 2.277</text>\n<text text-anchor=\"middle\" x=\"220\" y=\"-751.8\" font-family=\"Helvetica,sans-Serif\" font-size=\"14.00\">entropy = 0.918</text>\n<text text-anchor=\"middle\" x=\"220\" y=\"-736.8\" font-family=\"Helvetica,sans-Serif\" font-size=\"14.00\">samples = 3</text>\n<text text-anchor=\"middle\" x=\"220\" y=\"-721.8\" font-family=\"Helvetica,sans-Serif\" font-size=\"14.00\">value = [0, 1, 2]</text>\n<text text-anchor=\"middle\" x=\"220\" y=\"-706.8\" font-family=\"Helvetica,sans-Serif\" font-size=\"14.00\">class = 贝尔摩德</text>\n</g>\n<!-- 2&#45;&gt;4 -->\n<g id=\"edge4\" class=\"edge\">\n<title>2&#45;&gt;4</title>\n<path fill=\"none\" stroke=\"black\" d=\"M220,-817.91C220,-809.65 220,-800.86 220,-792.3\"/>\n<polygon fill=\"black\" stroke=\"black\" points=\"223.5,-792.02 220,-782.02 216.5,-792.02 223.5,-792.02\"/>\n</g>\n<!-- 5 -->\n<g id=\"node6\" class=\"node\">\n<title>5</title>\n<path fill=\"#39e581\" stroke=\"black\" d=\"M194,-655.5C194,-655.5 108,-655.5 108,-655.5 102,-655.5 96,-649.5 96,-643.5 96,-643.5 96,-599.5 96,-599.5 96,-593.5 102,-587.5 108,-587.5 108,-587.5 194,-587.5 194,-587.5 200,-587.5 206,-593.5 206,-599.5 206,-599.5 206,-643.5 206,-643.5 206,-649.5 200,-655.5 194,-655.5\"/>\n<text text-anchor=\"middle\" x=\"151\" y=\"-640.3\" font-family=\"Helvetica,sans-Serif\" font-size=\"14.00\">entropy = 0.0</text>\n<text text-anchor=\"middle\" x=\"151\" y=\"-625.3\" font-family=\"Helvetica,sans-Serif\" font-size=\"14.00\">samples = 1</text>\n<text text-anchor=\"middle\" x=\"151\" y=\"-610.3\" font-family=\"Helvetica,sans-Serif\" font-size=\"14.00\">value = [0, 1, 0]</text>\n<text text-anchor=\"middle\" x=\"151\" y=\"-595.3\" font-family=\"Helvetica,sans-Serif\" font-size=\"14.00\">class = 雪莉</text>\n</g>\n<!-- 4&#45;&gt;5 -->\n<g id=\"edge5\" class=\"edge\">\n<title>4&#45;&gt;5</title>\n<path fill=\"none\" stroke=\"black\" d=\"M196.06,-698.91C189.49,-687.76 182.35,-675.66 175.73,-664.44\"/>\n<polygon fill=\"black\" stroke=\"black\" points=\"178.65,-662.5 170.56,-655.67 172.63,-666.06 178.65,-662.5\"/>\n</g>\n<!-- 6 -->\n<g id=\"node7\" class=\"node\">\n<title>6</title>\n<path fill=\"#8139e5\" stroke=\"black\" d=\"M344,-655.5C344,-655.5 236,-655.5 236,-655.5 230,-655.5 224,-649.5 224,-643.5 224,-643.5 224,-599.5 224,-599.5 224,-593.5 230,-587.5 236,-587.5 236,-587.5 344,-587.5 344,-587.5 350,-587.5 356,-593.5 356,-599.5 356,-599.5 356,-643.5 356,-643.5 356,-649.5 350,-655.5 344,-655.5\"/>\n<text text-anchor=\"middle\" x=\"290\" y=\"-640.3\" font-family=\"Helvetica,sans-Serif\" font-size=\"14.00\">entropy = 0.0</text>\n<text text-anchor=\"middle\" x=\"290\" y=\"-625.3\" font-family=\"Helvetica,sans-Serif\" font-size=\"14.00\">samples = 2</text>\n<text text-anchor=\"middle\" x=\"290\" y=\"-610.3\" font-family=\"Helvetica,sans-Serif\" font-size=\"14.00\">value = [0, 0, 2]</text>\n<text text-anchor=\"middle\" x=\"290\" y=\"-595.3\" font-family=\"Helvetica,sans-Serif\" font-size=\"14.00\">class = 贝尔摩德</text>\n</g>\n<!-- 4&#45;&gt;6 -->\n<g id=\"edge6\" class=\"edge\">\n<title>4&#45;&gt;6</title>\n<path fill=\"none\" stroke=\"black\" d=\"M244.29,-698.91C250.95,-687.76 258.2,-675.66 264.91,-664.44\"/>\n<polygon fill=\"black\" stroke=\"black\" points=\"268.03,-666.05 270.16,-655.67 262.02,-662.45 268.03,-666.05\"/>\n</g>\n<!-- 8 -->\n<g id=\"node9\" class=\"node\">\n<title>8</title>\n<path fill=\"#39e581\" stroke=\"black\" d=\"M406,-774.5C406,-774.5 320,-774.5 320,-774.5 314,-774.5 308,-768.5 308,-762.5 308,-762.5 308,-718.5 308,-718.5 308,-712.5 314,-706.5 320,-706.5 320,-706.5 406,-706.5 406,-706.5 412,-706.5 418,-712.5 418,-718.5 418,-718.5 418,-762.5 418,-762.5 418,-768.5 412,-774.5 406,-774.5\"/>\n<text text-anchor=\"middle\" x=\"363\" y=\"-759.3\" font-family=\"Helvetica,sans-Serif\" font-size=\"14.00\">entropy = 0.0</text>\n<text text-anchor=\"middle\" x=\"363\" y=\"-744.3\" font-family=\"Helvetica,sans-Serif\" font-size=\"14.00\">samples = 7</text>\n<text text-anchor=\"middle\" x=\"363\" y=\"-729.3\" font-family=\"Helvetica,sans-Serif\" font-size=\"14.00\">value = [0, 7, 0]</text>\n<text text-anchor=\"middle\" x=\"363\" y=\"-714.3\" font-family=\"Helvetica,sans-Serif\" font-size=\"14.00\">class = 雪莉</text>\n</g>\n<!-- 7&#45;&gt;8 -->\n<g id=\"edge8\" class=\"edge\">\n<title>7&#45;&gt;8</title>\n<path fill=\"none\" stroke=\"black\" d=\"M430.92,-817.91C420.72,-806.43 409.61,-793.94 399.39,-782.44\"/>\n<polygon fill=\"black\" stroke=\"black\" points=\"401.74,-779.82 392.48,-774.67 396.51,-784.47 401.74,-779.82\"/>\n</g>\n<!-- 9 -->\n<g id=\"node10\" class=\"node\">\n<title>9</title>\n<path fill=\"#8139e5\" stroke=\"black\" d=\"M556,-774.5C556,-774.5 448,-774.5 448,-774.5 442,-774.5 436,-768.5 436,-762.5 436,-762.5 436,-718.5 436,-718.5 436,-712.5 442,-706.5 448,-706.5 448,-706.5 556,-706.5 556,-706.5 562,-706.5 568,-712.5 568,-718.5 568,-718.5 568,-762.5 568,-762.5 568,-768.5 562,-774.5 556,-774.5\"/>\n<text text-anchor=\"middle\" x=\"502\" y=\"-759.3\" font-family=\"Helvetica,sans-Serif\" font-size=\"14.00\">entropy = 0.0</text>\n<text text-anchor=\"middle\" x=\"502\" y=\"-744.3\" font-family=\"Helvetica,sans-Serif\" font-size=\"14.00\">samples = 1</text>\n<text text-anchor=\"middle\" x=\"502\" y=\"-729.3\" font-family=\"Helvetica,sans-Serif\" font-size=\"14.00\">value = [0, 0, 1]</text>\n<text text-anchor=\"middle\" x=\"502\" y=\"-714.3\" font-family=\"Helvetica,sans-Serif\" font-size=\"14.00\">class = 贝尔摩德</text>\n</g>\n<!-- 7&#45;&gt;9 -->\n<g id=\"edge9\" class=\"edge\">\n<title>7&#45;&gt;9</title>\n<path fill=\"none\" stroke=\"black\" d=\"M479.14,-817.91C482.38,-807.09 485.88,-795.38 489.15,-784.44\"/>\n<polygon fill=\"black\" stroke=\"black\" points=\"492.57,-785.25 492.08,-774.67 485.86,-783.24 492.57,-785.25\"/>\n</g>\n<!-- 11 -->\n<g id=\"node12\" class=\"node\">\n<title>11</title>\n<path fill=\"#7feead\" stroke=\"black\" d=\"M737.5,-901C737.5,-901 626.5,-901 626.5,-901 620.5,-901 614.5,-895 614.5,-889 614.5,-889 614.5,-830 614.5,-830 614.5,-824 620.5,-818 626.5,-818 626.5,-818 737.5,-818 737.5,-818 743.5,-818 749.5,-824 749.5,-830 749.5,-830 749.5,-889 749.5,-889 749.5,-895 743.5,-901 737.5,-901\"/>\n<text text-anchor=\"middle\" x=\"682\" y=\"-885.8\" font-family=\"Helvetica,sans-Serif\" font-size=\"14.00\">flavanoids &lt;= 3.189</text>\n<text text-anchor=\"middle\" x=\"682\" y=\"-870.8\" font-family=\"Helvetica,sans-Serif\" font-size=\"14.00\">entropy = 0.827</text>\n<text text-anchor=\"middle\" x=\"682\" y=\"-855.8\" font-family=\"Helvetica,sans-Serif\" font-size=\"14.00\">samples = 50</text>\n<text text-anchor=\"middle\" x=\"682\" y=\"-840.8\" font-family=\"Helvetica,sans-Serif\" font-size=\"14.00\">value = [13, 37, 0]</text>\n<text text-anchor=\"middle\" x=\"682\" y=\"-825.8\" font-family=\"Helvetica,sans-Serif\" font-size=\"14.00\">class = 雪莉</text>\n</g>\n<!-- 10&#45;&gt;11 -->\n<g id=\"edge11\" class=\"edge\">\n<title>10&#45;&gt;11</title>\n<path fill=\"none\" stroke=\"black\" d=\"M682,-936.91C682,-928.65 682,-919.86 682,-911.3\"/>\n<polygon fill=\"black\" stroke=\"black\" points=\"685.5,-911.02 682,-901.02 678.5,-911.02 685.5,-911.02\"/>\n</g>\n<!-- 26 -->\n<g id=\"node27\" class=\"node\">\n<title>26</title>\n<path fill=\"#e88d4c\" stroke=\"black\" d=\"M1049.5,-901C1049.5,-901 812.5,-901 812.5,-901 806.5,-901 800.5,-895 800.5,-889 800.5,-889 800.5,-830 800.5,-830 800.5,-824 806.5,-818 812.5,-818 812.5,-818 1049.5,-818 1049.5,-818 1055.5,-818 1061.5,-824 1061.5,-830 1061.5,-830 1061.5,-889 1061.5,-889 1061.5,-895 1055.5,-901 1049.5,-901\"/>\n<text text-anchor=\"middle\" x=\"931\" y=\"-885.8\" font-family=\"Helvetica,sans-Serif\" font-size=\"14.00\">od280/od315_of_diluted_wines &lt;= 3.496</text>\n<text text-anchor=\"middle\" x=\"931\" y=\"-870.8\" font-family=\"Helvetica,sans-Serif\" font-size=\"14.00\">entropy = 0.431</text>\n<text text-anchor=\"middle\" x=\"931\" y=\"-855.8\" font-family=\"Helvetica,sans-Serif\" font-size=\"14.00\">samples = 34</text>\n<text text-anchor=\"middle\" x=\"931\" y=\"-840.8\" font-family=\"Helvetica,sans-Serif\" font-size=\"14.00\">value = [31, 3, 0]</text>\n<text text-anchor=\"middle\" x=\"931\" y=\"-825.8\" font-family=\"Helvetica,sans-Serif\" font-size=\"14.00\">class = 琴酒</text>\n</g>\n<!-- 10&#45;&gt;26 -->\n<g id=\"edge26\" class=\"edge\">\n<title>10&#45;&gt;26</title>\n<path fill=\"none\" stroke=\"black\" d=\"M744.51,-948.13C771.93,-935.24 804.73,-919.83 835.12,-905.55\"/>\n<polygon fill=\"black\" stroke=\"black\" points=\"836.91,-908.58 844.47,-901.16 833.93,-902.24 836.91,-908.58\"/>\n</g>\n<!-- 12 -->\n<g id=\"node13\" class=\"node\">\n<title>12</title>\n<path fill=\"#6feca3\" stroke=\"black\" d=\"M699.5,-782C699.5,-782 598.5,-782 598.5,-782 592.5,-782 586.5,-776 586.5,-770 586.5,-770 586.5,-711 586.5,-711 586.5,-705 592.5,-699 598.5,-699 598.5,-699 699.5,-699 699.5,-699 705.5,-699 711.5,-705 711.5,-711 711.5,-711 711.5,-770 711.5,-770 711.5,-776 705.5,-782 699.5,-782\"/>\n<text text-anchor=\"middle\" x=\"649\" y=\"-766.8\" font-family=\"Helvetica,sans-Serif\" font-size=\"14.00\">proline &lt;= 580.5</text>\n<text text-anchor=\"middle\" x=\"649\" y=\"-751.8\" font-family=\"Helvetica,sans-Serif\" font-size=\"14.00\">entropy = 0.747</text>\n<text text-anchor=\"middle\" x=\"649\" y=\"-736.8\" font-family=\"Helvetica,sans-Serif\" font-size=\"14.00\">samples = 47</text>\n<text text-anchor=\"middle\" x=\"649\" y=\"-721.8\" font-family=\"Helvetica,sans-Serif\" font-size=\"14.00\">value = [10, 37, 0]</text>\n<text text-anchor=\"middle\" x=\"649\" y=\"-706.8\" font-family=\"Helvetica,sans-Serif\" font-size=\"14.00\">class = 雪莉</text>\n</g>\n<!-- 11&#45;&gt;12 -->\n<g id=\"edge12\" class=\"edge\">\n<title>11&#45;&gt;12</title>\n<path fill=\"none\" stroke=\"black\" d=\"M670.55,-817.91C668.17,-809.47 665.63,-800.48 663.17,-791.74\"/>\n<polygon fill=\"black\" stroke=\"black\" points=\"666.51,-790.7 660.43,-782.02 659.78,-792.6 666.51,-790.7\"/>\n</g>\n<!-- 25 -->\n<g id=\"node26\" class=\"node\">\n<title>25</title>\n<path fill=\"#e58139\" stroke=\"black\" d=\"M828,-774.5C828,-774.5 742,-774.5 742,-774.5 736,-774.5 730,-768.5 730,-762.5 730,-762.5 730,-718.5 730,-718.5 730,-712.5 736,-706.5 742,-706.5 742,-706.5 828,-706.5 828,-706.5 834,-706.5 840,-712.5 840,-718.5 840,-718.5 840,-762.5 840,-762.5 840,-768.5 834,-774.5 828,-774.5\"/>\n<text text-anchor=\"middle\" x=\"785\" y=\"-759.3\" font-family=\"Helvetica,sans-Serif\" font-size=\"14.00\">entropy = 0.0</text>\n<text text-anchor=\"middle\" x=\"785\" y=\"-744.3\" font-family=\"Helvetica,sans-Serif\" font-size=\"14.00\">samples = 3</text>\n<text text-anchor=\"middle\" x=\"785\" y=\"-729.3\" font-family=\"Helvetica,sans-Serif\" font-size=\"14.00\">value = [3, 0, 0]</text>\n<text text-anchor=\"middle\" x=\"785\" y=\"-714.3\" font-family=\"Helvetica,sans-Serif\" font-size=\"14.00\">class = 琴酒</text>\n</g>\n<!-- 11&#45;&gt;25 -->\n<g id=\"edge25\" class=\"edge\">\n<title>11&#45;&gt;25</title>\n<path fill=\"none\" stroke=\"black\" d=\"M717.74,-817.91C727.84,-806.43 738.84,-793.94 748.96,-782.44\"/>\n<polygon fill=\"black\" stroke=\"black\" points=\"751.82,-784.49 755.8,-774.67 746.57,-779.86 751.82,-784.49\"/>\n</g>\n<!-- 13 -->\n<g id=\"node14\" class=\"node\">\n<title>13</title>\n<path fill=\"#39e581\" stroke=\"black\" d=\"M584.5,-655.5C584.5,-655.5 491.5,-655.5 491.5,-655.5 485.5,-655.5 479.5,-649.5 479.5,-643.5 479.5,-643.5 479.5,-599.5 479.5,-599.5 479.5,-593.5 485.5,-587.5 491.5,-587.5 491.5,-587.5 584.5,-587.5 584.5,-587.5 590.5,-587.5 596.5,-593.5 596.5,-599.5 596.5,-599.5 596.5,-643.5 596.5,-643.5 596.5,-649.5 590.5,-655.5 584.5,-655.5\"/>\n<text text-anchor=\"middle\" x=\"538\" y=\"-640.3\" font-family=\"Helvetica,sans-Serif\" font-size=\"14.00\">entropy = 0.0</text>\n<text text-anchor=\"middle\" x=\"538\" y=\"-625.3\" font-family=\"Helvetica,sans-Serif\" font-size=\"14.00\">samples = 26</text>\n<text text-anchor=\"middle\" x=\"538\" y=\"-610.3\" font-family=\"Helvetica,sans-Serif\" font-size=\"14.00\">value = [0, 26, 0]</text>\n<text text-anchor=\"middle\" x=\"538\" y=\"-595.3\" font-family=\"Helvetica,sans-Serif\" font-size=\"14.00\">class = 雪莉</text>\n</g>\n<!-- 12&#45;&gt;13 -->\n<g id=\"edge13\" class=\"edge\">\n<title>12&#45;&gt;13</title>\n<path fill=\"none\" stroke=\"black\" d=\"M610.49,-698.91C599.5,-687.32 587.52,-674.7 576.53,-663.11\"/>\n<polygon fill=\"black\" stroke=\"black\" points=\"578.89,-660.51 569.47,-655.67 573.81,-665.33 578.89,-660.51\"/>\n</g>\n<!-- 14 -->\n<g id=\"node15\" class=\"node\">\n<title>14</title>\n<path fill=\"#edfdf4\" stroke=\"black\" d=\"M733,-663C733,-663 627,-663 627,-663 621,-663 615,-657 615,-651 615,-651 615,-592 615,-592 615,-586 621,-580 627,-580 627,-580 733,-580 733,-580 739,-580 745,-586 745,-592 745,-592 745,-651 745,-651 745,-657 739,-663 733,-663\"/>\n<text text-anchor=\"middle\" x=\"680\" y=\"-647.8\" font-family=\"Helvetica,sans-Serif\" font-size=\"14.00\">proline &lt;= 689.566</text>\n<text text-anchor=\"middle\" x=\"680\" y=\"-632.8\" font-family=\"Helvetica,sans-Serif\" font-size=\"14.00\">entropy = 0.998</text>\n<text text-anchor=\"middle\" x=\"680\" y=\"-617.8\" font-family=\"Helvetica,sans-Serif\" font-size=\"14.00\">samples = 21</text>\n<text text-anchor=\"middle\" x=\"680\" y=\"-602.8\" font-family=\"Helvetica,sans-Serif\" font-size=\"14.00\">value = [10, 11, 0]</text>\n<text text-anchor=\"middle\" x=\"680\" y=\"-587.8\" font-family=\"Helvetica,sans-Serif\" font-size=\"14.00\">class = 雪莉</text>\n</g>\n<!-- 12&#45;&gt;14 -->\n<g id=\"edge14\" class=\"edge\">\n<title>12&#45;&gt;14</title>\n<path fill=\"none\" stroke=\"black\" d=\"M659.76,-698.91C661.99,-690.47 664.37,-681.48 666.69,-672.74\"/>\n<polygon fill=\"black\" stroke=\"black\" points=\"670.09,-673.58 669.26,-663.02 663.32,-671.79 670.09,-673.58\"/>\n</g>\n<!-- 15 -->\n<g id=\"node16\" class=\"node\">\n<title>15</title>\n<path fill=\"#39e581\" stroke=\"black\" d=\"M587,-536.5C587,-536.5 501,-536.5 501,-536.5 495,-536.5 489,-530.5 489,-524.5 489,-524.5 489,-480.5 489,-480.5 489,-474.5 495,-468.5 501,-468.5 501,-468.5 587,-468.5 587,-468.5 593,-468.5 599,-474.5 599,-480.5 599,-480.5 599,-524.5 599,-524.5 599,-530.5 593,-536.5 587,-536.5\"/>\n<text text-anchor=\"middle\" x=\"544\" y=\"-521.3\" font-family=\"Helvetica,sans-Serif\" font-size=\"14.00\">entropy = 0.0</text>\n<text text-anchor=\"middle\" x=\"544\" y=\"-506.3\" font-family=\"Helvetica,sans-Serif\" font-size=\"14.00\">samples = 7</text>\n<text text-anchor=\"middle\" x=\"544\" y=\"-491.3\" font-family=\"Helvetica,sans-Serif\" font-size=\"14.00\">value = [0, 7, 0]</text>\n<text text-anchor=\"middle\" x=\"544\" y=\"-476.3\" font-family=\"Helvetica,sans-Serif\" font-size=\"14.00\">class = 雪莉</text>\n</g>\n<!-- 14&#45;&gt;15 -->\n<g id=\"edge15\" class=\"edge\">\n<title>14&#45;&gt;15</title>\n<path fill=\"none\" stroke=\"black\" d=\"M632.82,-579.91C619.09,-568.1 604.11,-555.22 590.44,-543.45\"/>\n<polygon fill=\"black\" stroke=\"black\" points=\"592.42,-540.54 582.55,-536.67 587.85,-545.84 592.42,-540.54\"/>\n</g>\n<!-- 16 -->\n<g id=\"node17\" class=\"node\">\n<title>16</title>\n<path fill=\"#efb388\" stroke=\"black\" d=\"M760.5,-544C760.5,-544 629.5,-544 629.5,-544 623.5,-544 617.5,-538 617.5,-532 617.5,-532 617.5,-473 617.5,-473 617.5,-467 623.5,-461 629.5,-461 629.5,-461 760.5,-461 760.5,-461 766.5,-461 772.5,-467 772.5,-473 772.5,-473 772.5,-532 772.5,-532 772.5,-538 766.5,-544 760.5,-544\"/>\n<text text-anchor=\"middle\" x=\"695\" y=\"-528.8\" font-family=\"Helvetica,sans-Serif\" font-size=\"14.00\">total_phenols &lt;= 3.104</text>\n<text text-anchor=\"middle\" x=\"695\" y=\"-513.8\" font-family=\"Helvetica,sans-Serif\" font-size=\"14.00\">entropy = 0.863</text>\n<text text-anchor=\"middle\" x=\"695\" y=\"-498.8\" font-family=\"Helvetica,sans-Serif\" font-size=\"14.00\">samples = 14</text>\n<text text-anchor=\"middle\" x=\"695\" y=\"-483.8\" font-family=\"Helvetica,sans-Serif\" font-size=\"14.00\">value = [10, 4, 0]</text>\n<text text-anchor=\"middle\" x=\"695\" y=\"-468.8\" font-family=\"Helvetica,sans-Serif\" font-size=\"14.00\">class = 琴酒</text>\n</g>\n<!-- 14&#45;&gt;16 -->\n<g id=\"edge16\" class=\"edge\">\n<title>14&#45;&gt;16</title>\n<path fill=\"none\" stroke=\"black\" d=\"M685.2,-579.91C686.27,-571.56 687.41,-562.67 688.52,-554.02\"/>\n<polygon fill=\"black\" stroke=\"black\" points=\"692,-554.38 689.81,-544.02 685.06,-553.49 692,-554.38\"/>\n</g>\n<!-- 17 -->\n<g id=\"node18\" class=\"node\">\n<title>17</title>\n<path fill=\"#ea9a61\" stroke=\"black\" d=\"M677.5,-425C677.5,-425 576.5,-425 576.5,-425 570.5,-425 564.5,-419 564.5,-413 564.5,-413 564.5,-354 564.5,-354 564.5,-348 570.5,-342 576.5,-342 576.5,-342 677.5,-342 677.5,-342 683.5,-342 689.5,-348 689.5,-354 689.5,-354 689.5,-413 689.5,-413 689.5,-419 683.5,-425 677.5,-425\"/>\n<text text-anchor=\"middle\" x=\"627\" y=\"-409.8\" font-family=\"Helvetica,sans-Serif\" font-size=\"14.00\">alcohol &lt;= 12.972</text>\n<text text-anchor=\"middle\" x=\"627\" y=\"-394.8\" font-family=\"Helvetica,sans-Serif\" font-size=\"14.00\">entropy = 0.65</text>\n<text text-anchor=\"middle\" x=\"627\" y=\"-379.8\" font-family=\"Helvetica,sans-Serif\" font-size=\"14.00\">samples = 12</text>\n<text text-anchor=\"middle\" x=\"627\" y=\"-364.8\" font-family=\"Helvetica,sans-Serif\" font-size=\"14.00\">value = [10, 2, 0]</text>\n<text text-anchor=\"middle\" x=\"627\" y=\"-349.8\" font-family=\"Helvetica,sans-Serif\" font-size=\"14.00\">class = 琴酒</text>\n</g>\n<!-- 16&#45;&gt;17 -->\n<g id=\"edge17\" class=\"edge\">\n<title>16&#45;&gt;17</title>\n<path fill=\"none\" stroke=\"black\" d=\"M671.41,-460.91C666.34,-452.2 660.94,-442.9 655.71,-433.89\"/>\n<polygon fill=\"black\" stroke=\"black\" points=\"658.6,-431.91 650.55,-425.02 652.55,-435.43 658.6,-431.91\"/>\n</g>\n<!-- 24 -->\n<g id=\"node25\" class=\"node\">\n<title>24</title>\n<path fill=\"#39e581\" stroke=\"black\" d=\"M806,-417.5C806,-417.5 720,-417.5 720,-417.5 714,-417.5 708,-411.5 708,-405.5 708,-405.5 708,-361.5 708,-361.5 708,-355.5 714,-349.5 720,-349.5 720,-349.5 806,-349.5 806,-349.5 812,-349.5 818,-355.5 818,-361.5 818,-361.5 818,-405.5 818,-405.5 818,-411.5 812,-417.5 806,-417.5\"/>\n<text text-anchor=\"middle\" x=\"763\" y=\"-402.3\" font-family=\"Helvetica,sans-Serif\" font-size=\"14.00\">entropy = 0.0</text>\n<text text-anchor=\"middle\" x=\"763\" y=\"-387.3\" font-family=\"Helvetica,sans-Serif\" font-size=\"14.00\">samples = 2</text>\n<text text-anchor=\"middle\" x=\"763\" y=\"-372.3\" font-family=\"Helvetica,sans-Serif\" font-size=\"14.00\">value = [0, 2, 0]</text>\n<text text-anchor=\"middle\" x=\"763\" y=\"-357.3\" font-family=\"Helvetica,sans-Serif\" font-size=\"14.00\">class = 雪莉</text>\n</g>\n<!-- 16&#45;&gt;24 -->\n<g id=\"edge24\" class=\"edge\">\n<title>16&#45;&gt;24</title>\n<path fill=\"none\" stroke=\"black\" d=\"M718.59,-460.91C725.07,-449.76 732.1,-437.66 738.63,-426.44\"/>\n<polygon fill=\"black\" stroke=\"black\" points=\"741.72,-428.07 743.72,-417.67 735.67,-424.55 741.72,-428.07\"/>\n</g>\n<!-- 18 -->\n<g id=\"node19\" class=\"node\">\n<title>18</title>\n<path fill=\"#ffffff\" stroke=\"black\" d=\"M606,-306C606,-306 520,-306 520,-306 514,-306 508,-300 508,-294 508,-294 508,-235 508,-235 508,-229 514,-223 520,-223 520,-223 606,-223 606,-223 612,-223 618,-229 618,-235 618,-235 618,-294 618,-294 618,-300 612,-306 606,-306\"/>\n<text text-anchor=\"middle\" x=\"563\" y=\"-290.8\" font-family=\"Helvetica,sans-Serif\" font-size=\"14.00\">ash &lt;= 2.067</text>\n<text text-anchor=\"middle\" x=\"563\" y=\"-275.8\" font-family=\"Helvetica,sans-Serif\" font-size=\"14.00\">entropy = 1.0</text>\n<text text-anchor=\"middle\" x=\"563\" y=\"-260.8\" font-family=\"Helvetica,sans-Serif\" font-size=\"14.00\">samples = 4</text>\n<text text-anchor=\"middle\" x=\"563\" y=\"-245.8\" font-family=\"Helvetica,sans-Serif\" font-size=\"14.00\">value = [2, 2, 0]</text>\n<text text-anchor=\"middle\" x=\"563\" y=\"-230.8\" font-family=\"Helvetica,sans-Serif\" font-size=\"14.00\">class = 琴酒</text>\n</g>\n<!-- 17&#45;&gt;18 -->\n<g id=\"edge18\" class=\"edge\">\n<title>17&#45;&gt;18</title>\n<path fill=\"none\" stroke=\"black\" d=\"M604.8,-341.91C600.03,-333.2 594.94,-323.9 590.02,-314.89\"/>\n<polygon fill=\"black\" stroke=\"black\" points=\"593.03,-313.11 585.17,-306.02 586.89,-316.47 593.03,-313.11\"/>\n</g>\n<!-- 23 -->\n<g id=\"node24\" class=\"node\">\n<title>23</title>\n<path fill=\"#e58139\" stroke=\"black\" d=\"M734,-298.5C734,-298.5 648,-298.5 648,-298.5 642,-298.5 636,-292.5 636,-286.5 636,-286.5 636,-242.5 636,-242.5 636,-236.5 642,-230.5 648,-230.5 648,-230.5 734,-230.5 734,-230.5 740,-230.5 746,-236.5 746,-242.5 746,-242.5 746,-286.5 746,-286.5 746,-292.5 740,-298.5 734,-298.5\"/>\n<text text-anchor=\"middle\" x=\"691\" y=\"-283.3\" font-family=\"Helvetica,sans-Serif\" font-size=\"14.00\">entropy = 0.0</text>\n<text text-anchor=\"middle\" x=\"691\" y=\"-268.3\" font-family=\"Helvetica,sans-Serif\" font-size=\"14.00\">samples = 8</text>\n<text text-anchor=\"middle\" x=\"691\" y=\"-253.3\" font-family=\"Helvetica,sans-Serif\" font-size=\"14.00\">value = [8, 0, 0]</text>\n<text text-anchor=\"middle\" x=\"691\" y=\"-238.3\" font-family=\"Helvetica,sans-Serif\" font-size=\"14.00\">class = 琴酒</text>\n</g>\n<!-- 17&#45;&gt;23 -->\n<g id=\"edge23\" class=\"edge\">\n<title>17&#45;&gt;23</title>\n<path fill=\"none\" stroke=\"black\" d=\"M649.2,-341.91C655.24,-330.87 661.79,-318.9 667.88,-307.77\"/>\n<polygon fill=\"black\" stroke=\"black\" points=\"671.13,-309.12 672.86,-298.67 664.99,-305.76 671.13,-309.12\"/>\n</g>\n<!-- 19 -->\n<g id=\"node20\" class=\"node\">\n<title>19</title>\n<path fill=\"#39e581\" stroke=\"black\" d=\"M536,-179.5C536,-179.5 450,-179.5 450,-179.5 444,-179.5 438,-173.5 438,-167.5 438,-167.5 438,-123.5 438,-123.5 438,-117.5 444,-111.5 450,-111.5 450,-111.5 536,-111.5 536,-111.5 542,-111.5 548,-117.5 548,-123.5 548,-123.5 548,-167.5 548,-167.5 548,-173.5 542,-179.5 536,-179.5\"/>\n<text text-anchor=\"middle\" x=\"493\" y=\"-164.3\" font-family=\"Helvetica,sans-Serif\" font-size=\"14.00\">entropy = 0.0</text>\n<text text-anchor=\"middle\" x=\"493\" y=\"-149.3\" font-family=\"Helvetica,sans-Serif\" font-size=\"14.00\">samples = 1</text>\n<text text-anchor=\"middle\" x=\"493\" y=\"-134.3\" font-family=\"Helvetica,sans-Serif\" font-size=\"14.00\">value = [0, 1, 0]</text>\n<text text-anchor=\"middle\" x=\"493\" y=\"-119.3\" font-family=\"Helvetica,sans-Serif\" font-size=\"14.00\">class = 雪莉</text>\n</g>\n<!-- 18&#45;&gt;19 -->\n<g id=\"edge19\" class=\"edge\">\n<title>18&#45;&gt;19</title>\n<path fill=\"none\" stroke=\"black\" d=\"M538.71,-222.91C532.05,-211.76 524.8,-199.66 518.09,-188.44\"/>\n<polygon fill=\"black\" stroke=\"black\" points=\"520.98,-186.45 512.84,-179.67 514.97,-190.05 520.98,-186.45\"/>\n</g>\n<!-- 20 -->\n<g id=\"node21\" class=\"node\">\n<title>20</title>\n<path fill=\"#f2c09c\" stroke=\"black\" d=\"M689.5,-187C689.5,-187 578.5,-187 578.5,-187 572.5,-187 566.5,-181 566.5,-175 566.5,-175 566.5,-116 566.5,-116 566.5,-110 572.5,-104 578.5,-104 578.5,-104 689.5,-104 689.5,-104 695.5,-104 701.5,-110 701.5,-116 701.5,-116 701.5,-175 701.5,-175 701.5,-181 695.5,-187 689.5,-187\"/>\n<text text-anchor=\"middle\" x=\"634\" y=\"-171.8\" font-family=\"Helvetica,sans-Serif\" font-size=\"14.00\">flavanoids &lt;= 2.448</text>\n<text text-anchor=\"middle\" x=\"634\" y=\"-156.8\" font-family=\"Helvetica,sans-Serif\" font-size=\"14.00\">entropy = 0.918</text>\n<text text-anchor=\"middle\" x=\"634\" y=\"-141.8\" font-family=\"Helvetica,sans-Serif\" font-size=\"14.00\">samples = 3</text>\n<text text-anchor=\"middle\" x=\"634\" y=\"-126.8\" font-family=\"Helvetica,sans-Serif\" font-size=\"14.00\">value = [2, 1, 0]</text>\n<text text-anchor=\"middle\" x=\"634\" y=\"-111.8\" font-family=\"Helvetica,sans-Serif\" font-size=\"14.00\">class = 琴酒</text>\n</g>\n<!-- 18&#45;&gt;20 -->\n<g id=\"edge20\" class=\"edge\">\n<title>18&#45;&gt;20</title>\n<path fill=\"none\" stroke=\"black\" d=\"M587.63,-222.91C592.97,-214.1 598.68,-204.7 604.2,-195.61\"/>\n<polygon fill=\"black\" stroke=\"black\" points=\"607.21,-197.39 609.41,-187.02 601.23,-193.75 607.21,-197.39\"/>\n</g>\n<!-- 21 -->\n<g id=\"node22\" class=\"node\">\n<title>21</title>\n<path fill=\"#e58139\" stroke=\"black\" d=\"M613,-68C613,-68 527,-68 527,-68 521,-68 515,-62 515,-56 515,-56 515,-12 515,-12 515,-6 521,0 527,0 527,0 613,0 613,0 619,0 625,-6 625,-12 625,-12 625,-56 625,-56 625,-62 619,-68 613,-68\"/>\n<text text-anchor=\"middle\" x=\"570\" y=\"-52.8\" font-family=\"Helvetica,sans-Serif\" font-size=\"14.00\">entropy = 0.0</text>\n<text text-anchor=\"middle\" x=\"570\" y=\"-37.8\" font-family=\"Helvetica,sans-Serif\" font-size=\"14.00\">samples = 2</text>\n<text text-anchor=\"middle\" x=\"570\" y=\"-22.8\" font-family=\"Helvetica,sans-Serif\" font-size=\"14.00\">value = [2, 0, 0]</text>\n<text text-anchor=\"middle\" x=\"570\" y=\"-7.8\" font-family=\"Helvetica,sans-Serif\" font-size=\"14.00\">class = 琴酒</text>\n</g>\n<!-- 20&#45;&gt;21 -->\n<g id=\"edge21\" class=\"edge\">\n<title>20&#45;&gt;21</title>\n<path fill=\"none\" stroke=\"black\" d=\"M610.17,-103.73C605.1,-95.06 599.75,-85.9 594.65,-77.18\"/>\n<polygon fill=\"black\" stroke=\"black\" points=\"597.53,-75.17 589.46,-68.3 591.49,-78.7 597.53,-75.17\"/>\n</g>\n<!-- 22 -->\n<g id=\"node23\" class=\"node\">\n<title>22</title>\n<path fill=\"#39e581\" stroke=\"black\" d=\"M741,-68C741,-68 655,-68 655,-68 649,-68 643,-62 643,-56 643,-56 643,-12 643,-12 643,-6 649,0 655,0 655,0 741,0 741,0 747,0 753,-6 753,-12 753,-12 753,-56 753,-56 753,-62 747,-68 741,-68\"/>\n<text text-anchor=\"middle\" x=\"698\" y=\"-52.8\" font-family=\"Helvetica,sans-Serif\" font-size=\"14.00\">entropy = 0.0</text>\n<text text-anchor=\"middle\" x=\"698\" y=\"-37.8\" font-family=\"Helvetica,sans-Serif\" font-size=\"14.00\">samples = 1</text>\n<text text-anchor=\"middle\" x=\"698\" y=\"-22.8\" font-family=\"Helvetica,sans-Serif\" font-size=\"14.00\">value = [0, 1, 0]</text>\n<text text-anchor=\"middle\" x=\"698\" y=\"-7.8\" font-family=\"Helvetica,sans-Serif\" font-size=\"14.00\">class = 雪莉</text>\n</g>\n<!-- 20&#45;&gt;22 -->\n<g id=\"edge22\" class=\"edge\">\n<title>20&#45;&gt;22</title>\n<path fill=\"none\" stroke=\"black\" d=\"M657.83,-103.73C662.9,-95.06 668.25,-85.9 673.35,-77.18\"/>\n<polygon fill=\"black\" stroke=\"black\" points=\"676.51,-78.7 678.54,-68.3 670.47,-75.17 676.51,-78.7\"/>\n</g>\n<!-- 27 -->\n<g id=\"node28\" class=\"node\">\n<title>27</title>\n<path fill=\"#e89153\" stroke=\"black\" d=\"M992,-782C992,-782 870,-782 870,-782 864,-782 858,-776 858,-770 858,-770 858,-711 858,-711 858,-705 864,-699 870,-699 870,-699 992,-699 992,-699 998,-699 1004,-705 1004,-711 1004,-711 1004,-770 1004,-770 1004,-776 998,-782 992,-782\"/>\n<text text-anchor=\"middle\" x=\"931\" y=\"-766.8\" font-family=\"Helvetica,sans-Serif\" font-size=\"14.00\">magnesium &lt;= 99.25</text>\n<text text-anchor=\"middle\" x=\"931\" y=\"-751.8\" font-family=\"Helvetica,sans-Serif\" font-size=\"14.00\">entropy = 0.516</text>\n<text text-anchor=\"middle\" x=\"931\" y=\"-736.8\" font-family=\"Helvetica,sans-Serif\" font-size=\"14.00\">samples = 26</text>\n<text text-anchor=\"middle\" x=\"931\" y=\"-721.8\" font-family=\"Helvetica,sans-Serif\" font-size=\"14.00\">value = [23, 3, 0]</text>\n<text text-anchor=\"middle\" x=\"931\" y=\"-706.8\" font-family=\"Helvetica,sans-Serif\" font-size=\"14.00\">class = 琴酒</text>\n</g>\n<!-- 26&#45;&gt;27 -->\n<g id=\"edge27\" class=\"edge\">\n<title>26&#45;&gt;27</title>\n<path fill=\"none\" stroke=\"black\" d=\"M931,-817.91C931,-809.65 931,-800.86 931,-792.3\"/>\n<polygon fill=\"black\" stroke=\"black\" points=\"934.5,-792.02 931,-782.02 927.5,-792.02 934.5,-792.02\"/>\n</g>\n<!-- 32 -->\n<g id=\"node33\" class=\"node\">\n<title>32</title>\n<path fill=\"#e58139\" stroke=\"black\" d=\"M1120,-774.5C1120,-774.5 1034,-774.5 1034,-774.5 1028,-774.5 1022,-768.5 1022,-762.5 1022,-762.5 1022,-718.5 1022,-718.5 1022,-712.5 1028,-706.5 1034,-706.5 1034,-706.5 1120,-706.5 1120,-706.5 1126,-706.5 1132,-712.5 1132,-718.5 1132,-718.5 1132,-762.5 1132,-762.5 1132,-768.5 1126,-774.5 1120,-774.5\"/>\n<text text-anchor=\"middle\" x=\"1077\" y=\"-759.3\" font-family=\"Helvetica,sans-Serif\" font-size=\"14.00\">entropy = 0.0</text>\n<text text-anchor=\"middle\" x=\"1077\" y=\"-744.3\" font-family=\"Helvetica,sans-Serif\" font-size=\"14.00\">samples = 8</text>\n<text text-anchor=\"middle\" x=\"1077\" y=\"-729.3\" font-family=\"Helvetica,sans-Serif\" font-size=\"14.00\">value = [8, 0, 0]</text>\n<text text-anchor=\"middle\" x=\"1077\" y=\"-714.3\" font-family=\"Helvetica,sans-Serif\" font-size=\"14.00\">class = 琴酒</text>\n</g>\n<!-- 26&#45;&gt;32 -->\n<g id=\"edge32\" class=\"edge\">\n<title>26&#45;&gt;32</title>\n<path fill=\"none\" stroke=\"black\" d=\"M981.65,-817.91C996.53,-805.99 1012.77,-792.98 1027.56,-781.12\"/>\n<polygon fill=\"black\" stroke=\"black\" points=\"1030,-783.65 1035.61,-774.67 1025.62,-778.19 1030,-783.65\"/>\n</g>\n<!-- 28 -->\n<g id=\"node29\" class=\"node\">\n<title>28</title>\n<path fill=\"#f8e0ce\" stroke=\"black\" d=\"M979.5,-663C979.5,-663 850.5,-663 850.5,-663 844.5,-663 838.5,-657 838.5,-651 838.5,-651 838.5,-592 838.5,-592 838.5,-586 844.5,-580 850.5,-580 850.5,-580 979.5,-580 979.5,-580 985.5,-580 991.5,-586 991.5,-592 991.5,-592 991.5,-651 991.5,-651 991.5,-657 985.5,-663 979.5,-663\"/>\n<text text-anchor=\"middle\" x=\"915\" y=\"-647.8\" font-family=\"Helvetica,sans-Serif\" font-size=\"14.00\">color_intensity &lt;= 4.81</text>\n<text text-anchor=\"middle\" x=\"915\" y=\"-632.8\" font-family=\"Helvetica,sans-Serif\" font-size=\"14.00\">entropy = 0.985</text>\n<text text-anchor=\"middle\" x=\"915\" y=\"-617.8\" font-family=\"Helvetica,sans-Serif\" font-size=\"14.00\">samples = 7</text>\n<text text-anchor=\"middle\" x=\"915\" y=\"-602.8\" font-family=\"Helvetica,sans-Serif\" font-size=\"14.00\">value = [4, 3, 0]</text>\n<text text-anchor=\"middle\" x=\"915\" y=\"-587.8\" font-family=\"Helvetica,sans-Serif\" font-size=\"14.00\">class = 琴酒</text>\n</g>\n<!-- 27&#45;&gt;28 -->\n<g id=\"edge28\" class=\"edge\">\n<title>27&#45;&gt;28</title>\n<path fill=\"none\" stroke=\"black\" d=\"M925.45,-698.91C924.31,-690.56 923.09,-681.67 921.91,-673.02\"/>\n<polygon fill=\"black\" stroke=\"black\" points=\"925.36,-672.45 920.54,-663.02 918.43,-673.4 925.36,-672.45\"/>\n</g>\n<!-- 31 -->\n<g id=\"node32\" class=\"node\">\n<title>31</title>\n<path fill=\"#e58139\" stroke=\"black\" d=\"M1114.5,-655.5C1114.5,-655.5 1021.5,-655.5 1021.5,-655.5 1015.5,-655.5 1009.5,-649.5 1009.5,-643.5 1009.5,-643.5 1009.5,-599.5 1009.5,-599.5 1009.5,-593.5 1015.5,-587.5 1021.5,-587.5 1021.5,-587.5 1114.5,-587.5 1114.5,-587.5 1120.5,-587.5 1126.5,-593.5 1126.5,-599.5 1126.5,-599.5 1126.5,-643.5 1126.5,-643.5 1126.5,-649.5 1120.5,-655.5 1114.5,-655.5\"/>\n<text text-anchor=\"middle\" x=\"1068\" y=\"-640.3\" font-family=\"Helvetica,sans-Serif\" font-size=\"14.00\">entropy = 0.0</text>\n<text text-anchor=\"middle\" x=\"1068\" y=\"-625.3\" font-family=\"Helvetica,sans-Serif\" font-size=\"14.00\">samples = 19</text>\n<text text-anchor=\"middle\" x=\"1068\" y=\"-610.3\" font-family=\"Helvetica,sans-Serif\" font-size=\"14.00\">value = [19, 0, 0]</text>\n<text text-anchor=\"middle\" x=\"1068\" y=\"-595.3\" font-family=\"Helvetica,sans-Serif\" font-size=\"14.00\">class = 琴酒</text>\n</g>\n<!-- 27&#45;&gt;31 -->\n<g id=\"edge31\" class=\"edge\">\n<title>27&#45;&gt;31</title>\n<path fill=\"none\" stroke=\"black\" d=\"M978.53,-698.91C992.36,-687.1 1007.44,-674.22 1021.22,-662.45\"/>\n<polygon fill=\"black\" stroke=\"black\" points=\"1023.83,-664.82 1029.16,-655.67 1019.29,-659.5 1023.83,-664.82\"/>\n</g>\n<!-- 29 -->\n<g id=\"node30\" class=\"node\">\n<title>29</title>\n<path fill=\"#39e581\" stroke=\"black\" d=\"M890,-536.5C890,-536.5 804,-536.5 804,-536.5 798,-536.5 792,-530.5 792,-524.5 792,-524.5 792,-480.5 792,-480.5 792,-474.5 798,-468.5 804,-468.5 804,-468.5 890,-468.5 890,-468.5 896,-468.5 902,-474.5 902,-480.5 902,-480.5 902,-524.5 902,-524.5 902,-530.5 896,-536.5 890,-536.5\"/>\n<text text-anchor=\"middle\" x=\"847\" y=\"-521.3\" font-family=\"Helvetica,sans-Serif\" font-size=\"14.00\">entropy = 0.0</text>\n<text text-anchor=\"middle\" x=\"847\" y=\"-506.3\" font-family=\"Helvetica,sans-Serif\" font-size=\"14.00\">samples = 3</text>\n<text text-anchor=\"middle\" x=\"847\" y=\"-491.3\" font-family=\"Helvetica,sans-Serif\" font-size=\"14.00\">value = [0, 3, 0]</text>\n<text text-anchor=\"middle\" x=\"847\" y=\"-476.3\" font-family=\"Helvetica,sans-Serif\" font-size=\"14.00\">class = 雪莉</text>\n</g>\n<!-- 28&#45;&gt;29 -->\n<g id=\"edge29\" class=\"edge\">\n<title>28&#45;&gt;29</title>\n<path fill=\"none\" stroke=\"black\" d=\"M891.41,-579.91C884.93,-568.76 877.9,-556.66 871.37,-545.44\"/>\n<polygon fill=\"black\" stroke=\"black\" points=\"874.33,-543.55 866.28,-536.67 868.28,-547.07 874.33,-543.55\"/>\n</g>\n<!-- 30 -->\n<g id=\"node31\" class=\"node\">\n<title>30</title>\n<path fill=\"#e58139\" stroke=\"black\" d=\"M1018,-536.5C1018,-536.5 932,-536.5 932,-536.5 926,-536.5 920,-530.5 920,-524.5 920,-524.5 920,-480.5 920,-480.5 920,-474.5 926,-468.5 932,-468.5 932,-468.5 1018,-468.5 1018,-468.5 1024,-468.5 1030,-474.5 1030,-480.5 1030,-480.5 1030,-524.5 1030,-524.5 1030,-530.5 1024,-536.5 1018,-536.5\"/>\n<text text-anchor=\"middle\" x=\"975\" y=\"-521.3\" font-family=\"Helvetica,sans-Serif\" font-size=\"14.00\">entropy = 0.0</text>\n<text text-anchor=\"middle\" x=\"975\" y=\"-506.3\" font-family=\"Helvetica,sans-Serif\" font-size=\"14.00\">samples = 4</text>\n<text text-anchor=\"middle\" x=\"975\" y=\"-491.3\" font-family=\"Helvetica,sans-Serif\" font-size=\"14.00\">value = [4, 0, 0]</text>\n<text text-anchor=\"middle\" x=\"975\" y=\"-476.3\" font-family=\"Helvetica,sans-Serif\" font-size=\"14.00\">class = 琴酒</text>\n</g>\n<!-- 28&#45;&gt;30 -->\n<g id=\"edge30\" class=\"edge\">\n<title>28&#45;&gt;30</title>\n<path fill=\"none\" stroke=\"black\" d=\"M935.82,-579.91C941.48,-568.87 947.62,-556.9 953.32,-545.77\"/>\n<polygon fill=\"black\" stroke=\"black\" points=\"956.54,-547.16 957.99,-536.67 950.31,-543.97 956.54,-547.16\"/>\n</g>\n</g>\n</svg>\n",
      "text/plain": [
       "<graphviz.sources.Source at 0x21e66de2cc0>"
      ]
     },
     "execution_count": 8,
     "metadata": {},
     "output_type": "execute_result"
    }
   ],
   "execution_count": 8
  },
  {
   "metadata": {
    "ExecuteTime": {
     "end_time": "2024-12-06T00:11:41.378167Z",
     "start_time": "2024-12-06T00:11:41.374873Z"
    }
   },
   "cell_type": "code",
   "source": "[*zip(wine.feature_names, clf.feature_importances_)]",
   "id": "c90ad6b1ea762759",
   "outputs": [
    {
     "data": {
      "text/plain": [
       "[('alcohol', 0.16331083177411443),\n",
       " ('malic_acid', 0.014198463898749618),\n",
       " ('ash', 0.006417207539883398),\n",
       " ('alcalinity_of_ash', 0.0),\n",
       " ('magnesium', 0.033593356324218795),\n",
       " ('total_phenols', 0.022076389169894125),\n",
       " ('flavanoids', 0.46531149862869825),\n",
       " ('nonflavanoid_phenols', 0.0),\n",
       " ('proanthocyanins', 0.0),\n",
       " ('color_intensity', 0.05795638613646595),\n",
       " ('hue', 0.11221996823295902),\n",
       " ('od280/od315_of_diluted_wines', 0.0063091340071745276),\n",
       " ('proline', 0.11860676428784189)]"
      ]
     },
     "execution_count": 9,
     "metadata": {},
     "output_type": "execute_result"
    }
   ],
   "execution_count": 9
  },
  {
   "metadata": {
    "ExecuteTime": {
     "end_time": "2024-12-06T00:11:42.708689Z",
     "start_time": "2024-12-06T00:11:42.704704Z"
    }
   },
   "cell_type": "code",
   "source": [
    "# apply和predict参数只能是二维矩阵\n",
    "# apply 返回每个测试样本所在的叶子节点的索引\n",
    "clf.apply(Xtest)"
   ],
   "id": "91b1c22110f9ae4d",
   "outputs": [
    {
     "data": {
      "text/plain": [
       "array([19, 31, 13, 13,  6, 13, 13, 30, 32, 31, 13, 13, 13, 25, 31,  3, 15,\n",
       "       13, 13, 31, 15, 25,  3, 31, 13, 21,  3, 13, 23, 32, 13,  3,  3,  8,\n",
       "        3,  3,  3,  3, 31,  9, 13,  6, 13,  3,  3,  3, 13, 13, 31, 31, 31,\n",
       "        3, 23, 31], dtype=int64)"
      ]
     },
     "execution_count": 10,
     "metadata": {},
     "output_type": "execute_result"
    }
   ],
   "execution_count": 10
  },
  {
   "metadata": {
    "ExecuteTime": {
     "end_time": "2024-12-06T00:12:11.955763Z",
     "start_time": "2024-12-06T00:12:11.951357Z"
    }
   },
   "cell_type": "code",
   "source": [
    "# predict 返回每个测试样本的分类/回归结果\n",
    "clf.predict(Xtest)"
   ],
   "id": "6e01e3463c444c27",
   "outputs": [
    {
     "data": {
      "text/plain": [
       "array([1, 0, 1, 1, 2, 1, 1, 0, 0, 0, 1, 1, 1, 0, 0, 2, 1, 1, 1, 0, 1, 0,\n",
       "       2, 0, 1, 0, 2, 1, 0, 0, 1, 2, 2, 1, 2, 2, 2, 2, 0, 2, 1, 2, 1, 2,\n",
       "       2, 2, 1, 1, 0, 0, 0, 2, 0, 0])"
      ]
     },
     "execution_count": 11,
     "metadata": {},
     "output_type": "execute_result"
    }
   ],
   "execution_count": 11
  },
  {
   "metadata": {
    "ExecuteTime": {
     "end_time": "2024-12-08T00:46:54.667529Z",
     "start_time": "2024-12-08T00:46:54.655804Z"
    }
   },
   "cell_type": "code",
   "source": [
    "# 泰坦尼克号数据预测\n",
    "import math"
   ],
   "id": "cf1a6badf6760b5a",
   "outputs": [],
   "execution_count": 1
  },
  {
   "metadata": {
    "ExecuteTime": {
     "end_time": "2024-12-08T00:48:32.346319Z",
     "start_time": "2024-12-08T00:48:32.340820Z"
    }
   },
   "cell_type": "code",
   "source": "(0.6*math.log2(0.6))",
   "id": "de4fe3c4594682f7",
   "outputs": [
    {
     "data": {
      "text/plain": [
       "-0.44217935649972373"
      ]
     },
     "execution_count": 4,
     "metadata": {},
     "output_type": "execute_result"
    }
   ],
   "execution_count": 4
  },
  {
   "metadata": {},
   "cell_type": "code",
   "outputs": [],
   "execution_count": null,
   "source": "",
   "id": "f890077529d57fad"
  }
 ],
 "metadata": {
  "kernelspec": {
   "display_name": "Python 3",
   "language": "python",
   "name": "python3"
  },
  "language_info": {
   "codemirror_mode": {
    "name": "ipython",
    "version": 2
   },
   "file_extension": ".py",
   "mimetype": "text/x-python",
   "name": "python",
   "nbconvert_exporter": "python",
   "pygments_lexer": "ipython2",
   "version": "2.7.6"
  }
 },
 "nbformat": 4,
 "nbformat_minor": 5
}
